{
 "cells": [
  {
   "cell_type": "code",
   "execution_count": null,
   "metadata": {},
   "outputs": [],
   "source": [
    "from selenium import webdriver\n",
    "from bs4 import BeautifulSoup\n",
    "import time\n",
    "import pandas as pd"
   ]
  },
  {
   "cell_type": "code",
   "execution_count": null,
   "metadata": {},
   "outputs": [],
   "source": [
    "df = pd.DataFrame(columns=['Title','Company','Ratings','Reviews','Experience','Salary','Location','Job_Post_History','URL'])"
   ]
  },
  {
   "cell_type": "code",
   "execution_count": null,
   "metadata": {},
   "outputs": [],
   "source": [
    "for param in range(1,11):\n",
    "    url = \"https://www.naukri.com/financial-analyst-jobs-in-mumbai-param?k=financial%20analyst&l=mumbai\"\n",
    "\n",
    "    driver = webdriver.Chrome(\"D:\\\\Selenium\\\\chromedriver.exe\")\n",
    "    driver.get(url)\n",
    "\n",
    "    time.sleep(10)\n",
    "\n",
    "    soup = BeautifulSoup(driver.page_source,'html5lib')\n",
    "\n",
    "    # print(soup.prettify())\n",
    "\n",
    "    driver.close()\n",
    "\n",
    "    results = soup.find(class_='list')\n",
    "    job_elems = results.find_all('article',class_='jobTuple bgWhite br4 mb-8')\n",
    "\n",
    "    for job_elem in job_elems:\n",
    "\n",
    "        # URL to apply for the job     \n",
    "        URL = job_elem.find('a',class_='title fw500 ellipsis').get('href')\n",
    "    #     print(URL.strip())\n",
    "\n",
    "        # Post Title\n",
    "        Title = job_elem.find('a',class_='title fw500 ellipsis')\n",
    "\n",
    "        # Company Name\n",
    "        Company = job_elem.find('a',class_='subTitle ellipsis fleft')\n",
    "\n",
    "        # Ratings\n",
    "        rating_span = job_elem.find('span',class_='starRating fleft dot')\n",
    "        if rating_span is None:\n",
    "            continue\n",
    "        else:\n",
    "            Ratings = rating_span.text\n",
    "\n",
    "        # Reviews Counts\n",
    "        Review_span = job_elem.find('a',class_='reviewsCount ml-5 fleft blue-text')\n",
    "        if Review_span is None:\n",
    "            continue\n",
    "        else:\n",
    "            Reviews = Review_span.text\n",
    "\n",
    "        # Years of experience Required\n",
    "        Exp = job_elem.find('li',class_='fleft grey-text br2 placeHolderLi experience')\n",
    "        Exp_span = Exp.find('span',class_='ellipsis fleft fs12 lh16')\n",
    "        if Exp_span is None:\n",
    "            continue\n",
    "        else:\n",
    "            Experience = Exp_span.text\n",
    "\n",
    "        # Salary offered for the job\n",
    "        Sal = job_elem.find('li',class_='fleft grey-text br2 placeHolderLi salary')\n",
    "        Sal_span = Sal.find('span',class_='ellipsis fleft fs12 lh16')\n",
    "        if Sal_span is None:\n",
    "            continue\n",
    "        else:\n",
    "            Salary = Sal_span.text\n",
    "\n",
    "        # Location for the job post\n",
    "        Loc = job_elem.find('li',class_='fleft grey-text br2 placeHolderLi location')\n",
    "        Loc_exp = Loc.find('span',class_='ellipsis fleft fs12 lh16')\n",
    "        if Loc_exp is None:\n",
    "            continue\n",
    "        else:\n",
    "            Location = Loc_exp.text\n",
    "\n",
    "        # Number of days since job posted\n",
    "        Hist = job_elem.find(\"div\",[\"type br2 fleft grey\",\"type br2 fleft green\"])\n",
    "        Post_Hist = Hist.find('span',class_='fleft fw500')\n",
    "        if Post_Hist is None:\n",
    "            continue\n",
    "        else:\n",
    "            Post_History = Post_Hist.text\n",
    "\n",
    "    #   Appending data to the DataFrame \n",
    "        df=df.append({'URL':URL,'Title':Title.text,'Company':Company.text,'Ratings':Ratings,'Reviews':Reviews,'Experience':Experience,'Salary':Salary,'Location':Location,'Job_Post_History':Post_History},ignore_index = True)"
   ]
  },
  {
   "cell_type": "code",
   "execution_count": null,
   "metadata": {},
   "outputs": [],
   "source": [
    "df.shape"
   ]
  },
  {
   "cell_type": "code",
   "execution_count": null,
   "metadata": {},
   "outputs": [],
   "source": [
    "df.head()"
   ]
  },
  {
   "cell_type": "code",
   "execution_count": null,
   "metadata": {},
   "outputs": [],
   "source": [
    "df.to_csv(\"D:/30 Days of ML/Scraping-Naukri.com-in-Python/Naukri.com_data.csv\",index=False)"
   ]
  },
  {
   "cell_type": "code",
   "execution_count": null,
   "metadata": {},
   "outputs": [],
   "source": []
  }
 ],
 "metadata": {
  "kernelspec": {
   "display_name": "Python 3",
   "language": "python",
   "name": "python3"
  },
  "language_info": {
   "codemirror_mode": {
    "name": "ipython",
    "version": 3
   },
   "file_extension": ".py",
   "mimetype": "text/x-python",
   "name": "python",
   "nbconvert_exporter": "python",
   "pygments_lexer": "ipython3",
   "version": "3.7.4"
  }
 },
 "nbformat": 4,
 "nbformat_minor": 2
}
